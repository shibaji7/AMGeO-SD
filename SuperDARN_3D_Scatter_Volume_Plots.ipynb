{
 "cells": [
  {
   "cell_type": "markdown",
   "metadata": {},
   "source": [
    "# This is a PoC for plotting SD data in 3D format using plotly\n",
    "* Dimentions\n",
    "    - Time\n",
    "    - Gates\n",
    "    - Beams\n",
    "\n",
    "* Parameters\n",
    "    - Velocity\n",
    "    - Spectral Width\n",
    "    - Power\n",
    "    - Volumetric Scatter (in gray)"
   ]
  },
  {
   "cell_type": "code",
   "execution_count": 1,
   "metadata": {},
   "outputs": [],
   "source": [
    "#__author__ = \"Chakraborty, S.\"\n",
    "#__copyright__ = \"Copyright 2021, SuperDARN@VT\"\n",
    "#__credits__ = []\n",
    "#__license__ = \"MIT\"\n",
    "#__version__ = \"1.0.\"\n",
    "#__maintainer__ = \"Chakraborty, S.\"\n",
    "#__email__ = \"shibaji7@vt.edu\"\n",
    "#__status__ = \"Research\"\n",
    "\n",
    "import numpy as np\n",
    "np.random.seed(0)\n",
    "import sys\n",
    "sys.path.append(\"sd/\")\n",
    "sys.path.append(\"tools/\")\n",
    "\n",
    "from get_fit_data import FetchData"
   ]
  }
 ],
 "metadata": {
  "kernelspec": {
   "display_name": "amgeo",
   "language": "python",
   "name": "amgeo"
  },
  "language_info": {
   "codemirror_mode": {
    "name": "ipython",
    "version": 3
   },
   "file_extension": ".py",
   "mimetype": "text/x-python",
   "name": "python",
   "nbconvert_exporter": "python",
   "pygments_lexer": "ipython3",
   "version": "3.7.7"
  }
 },
 "nbformat": 4,
 "nbformat_minor": 4
}
