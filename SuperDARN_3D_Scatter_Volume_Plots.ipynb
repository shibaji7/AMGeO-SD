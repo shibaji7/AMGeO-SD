{
 "cells": [
  {
   "cell_type": "markdown",
   "metadata": {},
   "source": [
    "# This is a PoC for plotting SD data in 3D format using plotly\n",
    "* Dimentions\n",
    "    - Time\n",
    "    - Gates\n",
    "    - Beams\n",
    "\n",
    "* Parameters\n",
    "    - Velocity\n",
    "    - Spectral Width\n",
    "    - Power\n",
    "    - Volumetric Scatter (in gray)"
   ]
  },
  {
   "cell_type": "code",
   "execution_count": 1,
   "metadata": {},
   "outputs": [
    {
     "ename": "ModuleNotFoundError",
     "evalue": "No module named 'xarray'",
     "output_type": "error",
     "traceback": [
      "\u001b[0;31m---------------------------------------------------------------------------\u001b[0m",
      "\u001b[0;31mModuleNotFoundError\u001b[0m                       Traceback (most recent call last)",
      "\u001b[0;32m<ipython-input-1-b7fd2a4a230b>\u001b[0m in \u001b[0;36m<module>\u001b[0;34m\u001b[0m\n\u001b[1;32m     18\u001b[0m \u001b[0;32mfrom\u001b[0m \u001b[0mtyping\u001b[0m \u001b[0;32mimport\u001b[0m \u001b[0mList\u001b[0m\u001b[0;34m\u001b[0m\u001b[0;34m\u001b[0m\u001b[0m\n\u001b[1;32m     19\u001b[0m \u001b[0;34m\u001b[0m\u001b[0m\n\u001b[0;32m---> 20\u001b[0;31m \u001b[0;32mfrom\u001b[0m \u001b[0mget_fit_data\u001b[0m \u001b[0;32mimport\u001b[0m \u001b[0mFetchData\u001b[0m\u001b[0;34m\u001b[0m\u001b[0;34m\u001b[0m\u001b[0m\n\u001b[0m\u001b[1;32m     21\u001b[0m \u001b[0;32mfrom\u001b[0m \u001b[0mfit_records\u001b[0m \u001b[0;32mimport\u001b[0m \u001b[0mfetch_print_fit_rec\u001b[0m\u001b[0;34m\u001b[0m\u001b[0;34m\u001b[0m\u001b[0m\n",
      "\u001b[0;32m~/CodeBase/AMGeO-SD/sd/get_fit_data.py\u001b[0m in \u001b[0;36m<module>\u001b[0;34m\u001b[0m\n\u001b[1;32m     20\u001b[0m \u001b[0;32mfrom\u001b[0m \u001b[0mloguru\u001b[0m \u001b[0;32mimport\u001b[0m \u001b[0mlogger\u001b[0m\u001b[0;34m\u001b[0m\u001b[0;34m\u001b[0m\u001b[0m\n\u001b[1;32m     21\u001b[0m \u001b[0;34m\u001b[0m\u001b[0m\n\u001b[0;32m---> 22\u001b[0;31m \u001b[0;32mimport\u001b[0m \u001b[0mutils\u001b[0m\u001b[0;34m\u001b[0m\u001b[0;34m\u001b[0m\u001b[0m\n\u001b[0m\u001b[1;32m     23\u001b[0m \u001b[0;32mimport\u001b[0m \u001b[0mcopy\u001b[0m\u001b[0;34m\u001b[0m\u001b[0;34m\u001b[0m\u001b[0m\n\u001b[1;32m     24\u001b[0m \u001b[0;34m\u001b[0m\u001b[0m\n",
      "\u001b[0;32m~/CodeBase/AMGeO-SD/sd/utils.py\u001b[0m in \u001b[0;36m<module>\u001b[0;34m\u001b[0m\n\u001b[1;32m     25\u001b[0m \u001b[0;34m\u001b[0m\u001b[0m\n\u001b[1;32m     26\u001b[0m \u001b[0;32mfrom\u001b[0m \u001b[0mmatplotlib\u001b[0m\u001b[0;34m.\u001b[0m\u001b[0mdates\u001b[0m \u001b[0;32mimport\u001b[0m \u001b[0mdate2num\u001b[0m\u001b[0;34m\u001b[0m\u001b[0;34m\u001b[0m\u001b[0m\n\u001b[0;32m---> 27\u001b[0;31m \u001b[0;32mimport\u001b[0m \u001b[0mxarray\u001b[0m\u001b[0;34m\u001b[0m\u001b[0;34m\u001b[0m\u001b[0m\n\u001b[0m\u001b[1;32m     28\u001b[0m \u001b[0;34m\u001b[0m\u001b[0m\n\u001b[1;32m     29\u001b[0m \u001b[0;32mfrom\u001b[0m \u001b[0mget_fit_data\u001b[0m \u001b[0;32mimport\u001b[0m \u001b[0mScan\u001b[0m\u001b[0;34m\u001b[0m\u001b[0;34m\u001b[0m\u001b[0m\n",
      "\u001b[0;31mModuleNotFoundError\u001b[0m: No module named 'xarray'"
     ]
    }
   ],
   "source": [
    "#__author__ = \"Chakraborty, S.\"\n",
    "#__copyright__ = \"Copyright 2021, SuperDARN@VT\"\n",
    "#__credits__ = []\n",
    "#__license__ = \"MIT\"\n",
    "#__version__ = \"1.0.\"\n",
    "#__maintainer__ = \"Chakraborty, S.\"\n",
    "#__email__ = \"shibaji7@vt.edu\"\n",
    "#__status__ = \"Research\"\n",
    "\n",
    "%matplotlib inline\n",
    "import numpy as np\n",
    "np.random.seed(0)\n",
    "import sys\n",
    "sys.path.append(\"sd/\")\n",
    "sys.path.append(\"tools/\")\n",
    "import datetime as dt\n",
    "import pandas as pd\n",
    "from typing import List\n",
    "\n",
    "from get_fit_data import FetchData\n",
    "from fit_records import fetch_print_fit_rec"
   ]
  },
  {
   "cell_type": "code",
   "execution_count": null,
   "metadata": {
    "scrolled": true
   },
   "outputs": [],
   "source": [
    "# rad, dn = \"bks\", dt.datetime(2013,10,16,4,10)\n",
    "# scan_info = fetch_print_fit_rec(rad, dn, dn + dt.timedelta(minutes=5))\n",
    "# io = FetchData( \"bks\", [dn, dn + dt.timedelta(minutes=20)], verbose=True)\n",
    "# _, scans = io.fetch_data(by=\"scan\", scan_prop=scan_info)\n",
    "# df = io.scans_to_pandas(scans)"
   ]
  },
  {
   "cell_type": "code",
   "execution_count": null,
   "metadata": {},
   "outputs": [],
   "source": [
    "# print(\" Parameters:\", df.columns.tolist())"
   ]
  },
  {
   "cell_type": "code",
   "execution_count": null,
   "metadata": {},
   "outputs": [],
   "source": [
    "#import plotly.express as px\n",
    "#fig = px.scatter_3d(df, x='time', y='bmnum', z='slist',\n",
    "#              color='v', size_max=1,\n",
    "#              opacity=0.1)\n",
    "\n",
    "# tight layout\n",
    "#fig.update_layout(margin=dict(l=0, r=0, b=0, t=0))\n",
    "\n",
    "# def make_cube(du, idx_cols):\n",
    "#     \"\"\"Make an array cube from a Dataframe\n",
    "\n",
    "#     Args:\n",
    "#         df: Dataframe\n",
    "#         idx_cols: columns defining the dimensions of the cube\n",
    "\n",
    "#     Returns:\n",
    "#         multi-dimensional array\n",
    "#     \"\"\"\n",
    "#     assert len(set(idx_cols) & set(df.columns)) == len(idx_cols), 'idx_cols must be subset of columns'\n",
    "\n",
    "#     du = du.set_index(keys=idx_cols)  # don't overwrite a parameter, thus copy!\n",
    "#     idx_dims = [max(level)+1 for level in du.index.levels]\n",
    "#     idx_dims.append(len(du.columns))\n",
    "\n",
    "#     cube = np.empty(idx_dims)\n",
    "#     cube.fill(np.nan)\n",
    "#     cube[tuple(np.array(du.index.to_list()).T)] = du.values\n",
    "#     cube = cube.reshape(cube.shape[:-1])\n",
    "#     x = np.arange(np.max(du.index.levels[0])+1)\n",
    "#     y = np.arange(np.max(du.index.levels[1])+1)\n",
    "#     z = np.arange(np.max(du.index.levels[2])+1)\n",
    "#     X, Y, Z = np.meshgrid(x,y,z)\n",
    "#     return X,Y,Z,cube\n",
    "\n",
    "# df[\"secs\"] = [60*t.to_pydatetime().hour + t.to_pydatetime().second for t in df.time]\n",
    "# X,Y,Z,cube = make_cube(df[[\"secs\",\"bmnum\",\"slist\",\"v\"]], [\"secs\",\"bmnum\",\"slist\"])\n",
    "# import plotly.graph_objects as go\n",
    "\n",
    "# fig = go.Figure(data=go.Volume(\n",
    "#     x=X.flatten(),\n",
    "#     y=Y.flatten(),\n",
    "#     z=Z.flatten(),\n",
    "#     value=cube.flatten(),\n",
    "#     isomin=-20,\n",
    "#     isomax=20,\n",
    "#     opacity=0.1, # needs to be small to see through all surfaces\n",
    "#     surface_count=25, # needs to be a large number for good volume rendering\n",
    "#     ))\n",
    "# fig.show()"
   ]
  },
  {
   "cell_type": "code",
   "execution_count": null,
   "metadata": {
    "scrolled": false
   },
   "outputs": [],
   "source": [
    "# from fan_rti import FanPlots\n",
    "# fov = FanPlots(figsize=(6,6), nrows=1, ncols=1)\n",
    "# ax = fov.plot_fov(df[(df.time>=dn) & (df.time < dn + dt.timedelta(minutes=scan_info[\"s_time\"]))], \n",
    "#              dn, rad, gflg_mask=None)\n",
    "#fov.plot_layfovs([\"bks\", \"fhe\"], dn)\n",
    "#fov.add_instrument(ax, 42.28, -83.74, name=\"ANN\")\n",
    "#fov.save(\"RK.png\")\n",
    "# fov.close()"
   ]
  },
  {
   "cell_type": "code",
   "execution_count": null,
   "metadata": {},
   "outputs": [],
   "source": [
    "# rad = \"bks\"\n",
    "# dn = dt.datetime(2017,3,17,4,30)\n",
    "# fov = FanPlots(figsize=(9,3), nrows=1, ncols=2, dpi=180)\n",
    "# ax = fov._add_axis(dn)\n",
    "# ax.overlay_radar(rad)\n",
    "# ax.overlay_fov(rad)\n",
    "# ax.grid_on(draw_labels=[False, False, True, True])\n",
    "# ax.enum(dtype=r\"$fitacf$\")\n",
    "\n",
    "# ax = fov._add_axis(dn)\n",
    "# ax.overlay_radar(rad)\n",
    "# ax.overlay_fov(rad)\n",
    "# ax.grid_on(draw_labels=[False, False, False, False])\n",
    "# ax.enum(False, False, dtype=r\"$fitacf^{++}$\")\n",
    "# fov.fig.subplots_adjust(wspace=0.1, hspace=0.1)\n",
    "# fov.save(\"data/amgeo_agu21_fitacfp.png\")\n",
    "# fov.close()"
   ]
  }
 ],
 "metadata": {
  "kernelspec": {
   "display_name": "amgeo",
   "language": "python",
   "name": "amgeo"
  },
  "language_info": {
   "codemirror_mode": {
    "name": "ipython",
    "version": 3
   },
   "file_extension": ".py",
   "mimetype": "text/x-python",
   "name": "python",
   "nbconvert_exporter": "python",
   "pygments_lexer": "ipython3",
   "version": "3.7.12"
  }
 },
 "nbformat": 4,
 "nbformat_minor": 4
}
