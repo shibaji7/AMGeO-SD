{
 "cells": [
  {
   "cell_type": "markdown",
   "metadata": {},
   "source": [
    "# This is a PoC for plotting SD data in 3D format using plotly\n",
    "* Dimentions\n",
    "    - Time\n",
    "    - Gates\n",
    "    - Beams\n",
    "\n",
    "* Parameters\n",
    "    - Velocity\n",
    "    - Spectral Width\n",
    "    - Power\n",
    "    - Volumetric Scatter (in gray)"
   ]
  },
  {
   "cell_type": "code",
   "execution_count": 1,
   "metadata": {},
   "outputs": [],
   "source": [
    "#__author__ = \"Chakraborty, S.\"\n",
    "#__copyright__ = \"Copyright 2021, SuperDARN@VT\"\n",
    "#__credits__ = []\n",
    "#__license__ = \"MIT\"\n",
    "#__version__ = \"1.0.\"\n",
    "#__maintainer__ = \"Chakraborty, S.\"\n",
    "#__email__ = \"shibaji7@vt.edu\"\n",
    "#__status__ = \"Research\"\n",
    "\n",
    "%matplotlib inline\n",
    "import numpy as np\n",
    "np.random.seed(0)\n",
    "import sys\n",
    "sys.path.append(\"sd/\")\n",
    "sys.path.append(\"tools/\")\n",
    "import datetime as dt\n",
    "import pandas as pd\n",
    "from typing import List\n",
    "\n",
    "from get_fit_data import FetchData\n",
    "from fit_records import fetch_print_fit_rec"
   ]
  },
  {
   "cell_type": "code",
   "execution_count": 2,
   "metadata": {
    "scrolled": true
   },
   "outputs": [
    {
     "name": "stderr",
     "output_type": "stream",
     "text": [
      "2021-11-04 14:49:52.943 | INFO     | get_fit_data:fetch_data:311 - Read file - /sd-data/2013/fitacf/bks/20131016.0401.00.bks.fitacf.bz2\n",
      "2021-11-04 14:49:57.296 | INFO     | get_fit_data:_parse_data:202 - Started converting to beam data.\n",
      "2021-11-04 14:49:57.314 | INFO     | get_fit_data:_parse_data:209 - Converted to beam data.\n",
      "2021-11-04 14:49:57.484 | INFO     | fit_records:beam_summary:176 -  Data source:\n",
      "2021-11-04 14:49:57.504 | INFO     | fit_records:beam_summary:180 -  Duration of scan: 1 min(s)\n"
     ]
    },
    {
     "name": "stdout",
     "output_type": "stream",
     "text": [
      "                        time  channel  bmnum  scan  tfreq  frang  smsep  rsep  \\\n",
      "0 2013-10-16 04:10:00.047615        0     23     1  10224    180    300    45   \n",
      "1 2013-10-16 04:10:02.638043        0     22     0  10317    180    300    45   \n",
      "2 2013-10-16 04:10:05.294904        0     21     0  10347    180    300    45   \n",
      "3 2013-10-16 04:10:07.874343        0     20     0  10230    180    300    45   \n",
      "4 2013-10-16 04:10:10.454781        0     19     0  10242    180    300    45   \n",
      "5 2013-10-16 04:10:13.029724        0     18     0  10311    180    300    45   \n",
      "6 2013-10-16 04:10:15.552219        0     17     0  10269    180    300    45   \n",
      "7 2013-10-16 04:10:18.135154        0     16     0  10353    180    300    45   \n",
      "8 2013-10-16 04:10:20.635671        0     15     0  10278    180    300    45   \n",
      "9 2013-10-16 04:10:23.215110        0     14     0  10203    180    300    45   \n",
      "\n",
      "     cp  nrang  mppul  lagfr  intt.sc  intt.us   noise.sky  \n",
      "0  3501    100      8   1200        2   500000   54.900002  \n",
      "1  3501    100      8   1200        2   500000   95.800003  \n",
      "2  3501    100      8   1200        2   500000   69.400002  \n",
      "3  3501    100      8   1200        2   500000  169.300003  \n",
      "4  3501    100      8   1200        2   500000   63.500000  \n",
      "5  3501    100      8   1200        2   500000   77.500000  \n",
      "6  3501    100      8   1200        2   500000   66.300003  \n",
      "7  3501    100      8   1200        2   500000   68.400002  \n",
      "8  3501    100      8   1200        2   500000   75.800003  \n",
      "9  3501    100      8   1200        2   500000   69.099998  \n"
     ]
    },
    {
     "name": "stderr",
     "output_type": "stream",
     "text": [
      "2021-11-04 14:49:59.060 | INFO     | get_fit_data:fetch_data:311 - Read file - /sd-data/2013/fitacf/bks/20131016.0401.00.bks.fitacf.bz2\n",
      "2021-11-04 14:50:03.596 | INFO     | get_fit_data:_parse_data:202 - Started converting to beam data.\n",
      "2021-11-04 14:50:03.625 | INFO     | get_fit_data:_parse_data:209 - Converted to beam data.\n",
      "2021-11-04 14:50:03.626 | INFO     | get_fit_data:_parse_data:211 - Started converting to scan data.\n",
      "2021-11-04 14:50:03.630 | INFO     | get_fit_data:_parse_data:222 - Converted to scan data.\n"
     ]
    }
   ],
   "source": [
    "rad, dn = \"bks\", dt.datetime(2013,10,16,4,10)\n",
    "scan_info = fetch_print_fit_rec(rad, dn, dn + dt.timedelta(minutes=5))\n",
    "io = FetchData( \"bks\", [dn, dn + dt.timedelta(minutes=20)], verbose=True)\n",
    "_, scans = io.fetch_data(by=\"scan\", scan_prop=scan_info)\n",
    "df = io.scans_to_pandas(scans)"
   ]
  },
  {
   "cell_type": "code",
   "execution_count": 3,
   "metadata": {},
   "outputs": [
    {
     "name": "stdout",
     "output_type": "stream",
     "text": [
      " Parameters: ['bmnum', 'gflg', 'noise.sky', 'nrang', 'p_l', 'scan', 'scnum', 'slist', 'tfreq', 'time', 'v', 'v_e', 'w_l']\n"
     ]
    }
   ],
   "source": [
    "print(\" Parameters:\", df.columns.tolist())"
   ]
  },
  {
   "cell_type": "code",
   "execution_count": 4,
   "metadata": {},
   "outputs": [],
   "source": [
    "#import plotly.express as px\n",
    "#fig = px.scatter_3d(df, x='time', y='bmnum', z='slist',\n",
    "#              color='v', size_max=1,\n",
    "#              opacity=0.1)\n",
    "\n",
    "# tight layout\n",
    "#fig.update_layout(margin=dict(l=0, r=0, b=0, t=0))\n",
    "\n",
    "# def make_cube(du, idx_cols):\n",
    "#     \"\"\"Make an array cube from a Dataframe\n",
    "\n",
    "#     Args:\n",
    "#         df: Dataframe\n",
    "#         idx_cols: columns defining the dimensions of the cube\n",
    "\n",
    "#     Returns:\n",
    "#         multi-dimensional array\n",
    "#     \"\"\"\n",
    "#     assert len(set(idx_cols) & set(df.columns)) == len(idx_cols), 'idx_cols must be subset of columns'\n",
    "\n",
    "#     du = du.set_index(keys=idx_cols)  # don't overwrite a parameter, thus copy!\n",
    "#     idx_dims = [max(level)+1 for level in du.index.levels]\n",
    "#     idx_dims.append(len(du.columns))\n",
    "\n",
    "#     cube = np.empty(idx_dims)\n",
    "#     cube.fill(np.nan)\n",
    "#     cube[tuple(np.array(du.index.to_list()).T)] = du.values\n",
    "#     cube = cube.reshape(cube.shape[:-1])\n",
    "#     x = np.arange(np.max(du.index.levels[0])+1)\n",
    "#     y = np.arange(np.max(du.index.levels[1])+1)\n",
    "#     z = np.arange(np.max(du.index.levels[2])+1)\n",
    "#     X, Y, Z = np.meshgrid(x,y,z)\n",
    "#     return X,Y,Z,cube\n",
    "\n",
    "# df[\"secs\"] = [60*t.to_pydatetime().hour + t.to_pydatetime().second for t in df.time]\n",
    "# X,Y,Z,cube = make_cube(df[[\"secs\",\"bmnum\",\"slist\",\"v\"]], [\"secs\",\"bmnum\",\"slist\"])\n",
    "# import plotly.graph_objects as go\n",
    "\n",
    "# fig = go.Figure(data=go.Volume(\n",
    "#     x=X.flatten(),\n",
    "#     y=Y.flatten(),\n",
    "#     z=Z.flatten(),\n",
    "#     value=cube.flatten(),\n",
    "#     isomin=-20,\n",
    "#     isomax=20,\n",
    "#     opacity=0.1, # needs to be small to see through all surfaces\n",
    "#     surface_count=25, # needs to be a large number for good volume rendering\n",
    "#     ))\n",
    "# fig.show()"
   ]
  },
  {
   "cell_type": "code",
   "execution_count": 5,
   "metadata": {
    "scrolled": false
   },
   "outputs": [
    {
     "name": "stderr",
     "output_type": "stream",
     "text": [
      "2021-11-04 14:50:04.263 | INFO     | fan_rti:__init__:54 - Fan plot initialization\n",
      "2021-11-04 14:50:04.330 | INFO     | fan_rti:_add_axis:66 - Adding axes to fan plot : 1\n"
     ]
    }
   ],
   "source": [
    "from fan_rti import FanPlots\n",
    "fov = FanPlots(figsize=(6,6), nrows=1, ncols=1)\n",
    "ax = fov.plot_fov(df[(df.time>=dn) & (df.time < dn + dt.timedelta(minutes=scan_info[\"s_time\"]))], \n",
    "             dn, rad, gflg_mask=None)\n",
    "#fov.plot_layfovs([\"bks\", \"fhe\"], dn)\n",
    "fov.add_instrument(ax, 42.28, -83.74, name=\"ANN\")\n",
    "#fov.save(\"RK.png\")\n",
    "fov.close()"
   ]
  },
  {
   "cell_type": "code",
   "execution_count": 9,
   "metadata": {},
   "outputs": [
    {
     "name": "stderr",
     "output_type": "stream",
     "text": [
      "2021-11-04 14:51:36.806 | INFO     | fan_rti:__init__:54 - Fan plot initialization\n",
      "2021-11-04 14:51:36.810 | INFO     | fan_rti:_add_axis:66 - Adding axes to fan plot : 1\n",
      "2021-11-04 14:51:37.769 | INFO     | fan_rti:_add_axis:66 - Adding axes to fan plot : 2\n",
      "2021-11-04 14:51:38.698 | INFO     | fan_rti:save:103 - Save FoV figure to : data/amgeo_agu21_fitacfp.png\n"
     ]
    }
   ],
   "source": [
    "rad = \"bks\"\n",
    "dn = dt.datetime(2017,3,17,4,30)\n",
    "fov = FanPlots(figsize=(9,3), nrows=1, ncols=2, dpi=180)\n",
    "ax = fov._add_axis(dn)\n",
    "ax.overlay_radar(rad)\n",
    "ax.overlay_fov(rad)\n",
    "ax.grid_on(draw_labels=[False, False, True, True])\n",
    "ax.enum(dtype=r\"$fitacf$\")\n",
    "\n",
    "ax = fov._add_axis(dn)\n",
    "ax.overlay_radar(rad)\n",
    "ax.overlay_fov(rad)\n",
    "ax.grid_on(draw_labels=[False, False, False, False])\n",
    "ax.enum(False, False, dtype=r\"$fitacf^{++}$\")\n",
    "fov.fig.subplots_adjust(wspace=0.1, hspace=0.1)\n",
    "fov.save(\"data/amgeo_agu21_fitacfp.png\")\n",
    "fov.close()"
   ]
  }
 ],
 "metadata": {
  "kernelspec": {
   "display_name": "amgeo",
   "language": "python",
   "name": "amgeo"
  },
  "language_info": {
   "codemirror_mode": {
    "name": "ipython",
    "version": 3
   },
   "file_extension": ".py",
   "mimetype": "text/x-python",
   "name": "python",
   "nbconvert_exporter": "python",
   "pygments_lexer": "ipython3",
   "version": "3.7.6"
  }
 },
 "nbformat": 4,
 "nbformat_minor": 4
}
